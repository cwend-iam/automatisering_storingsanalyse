{
 "cells": [
  {
   "cell_type": "markdown",
   "id": "looking-program",
   "metadata": {},
   "source": [
    "# Genereren van een metadata bestand voor een nieuw project\n",
    "Dit script is voor het genereren van een metadata bestand voor een project dat nieuw is aangenomen \n",
    "of voor een project waar geen historische data bekend is en die toegevoegd moet worden aan de \n",
    "werkwijze voor het automatisch genereren van een storingsanalyse.\n",
    "\n",
    "De metadata is nodig voor het berekeken van de gemiddelde aantal meldingen/storingen per maand en de TOV-tabellen.\n",
    "\n",
    "De opbouw van de metadata is (vooralsnog) als volgt:\n",
    "```\n",
    "{\n",
    "    project: projectnaam,\n",
    "    start_datum: dd-mm-yyy,\n",
    "    contract_info: {\n",
    "        tijdsregistratie: True,\n",
    "        minimale_beschikbaarheid: xx,\n",
    "        minimale_responsetijd: 04:00:00,\n",
    "        aanwezige_deelinstallaties: [],\n",
    "        POO_codes, {}\n",
    "    }\n",
    "}\n",
    "```\n",
    "In deze opbouw worden enkel de deelinstallaties meegenomen met meldingen > 0. Dit geldt ook voor de storingen."
   ]
  },
  {
   "cell_type": "markdown",
   "id": "radio-framework",
   "metadata": {},
   "source": [
    "## Stappen\n",
    "De onderstaande stappen zijn voor het toevoegen van een metadata bestand zonder enige historische data."
   ]
  },
  {
   "cell_type": "markdown",
   "id": "supposed-terrace",
   "metadata": {},
   "source": [
    "### Stap 1 - Specificeren van het project\n",
    "Metadata bestanden worden geïdentificeerd op basis van de naam van het project. Wanneer een nieuw \n",
    "project wordt toegevoegd, is het dus van belang dat u de correcte/officiële projectnaam gebruikt.\n",
    "\n",
    "#### Voorbeelden\n",
    "```python\n",
    "project = \"Coentunnel-tracé\"\n",
    "```\n",
    "```python\n",
    "project = \"Sluis Eefde\"\n",
    "```\n",
    "\n",
    "In onderstaande code cell moet u de naam van het project specificeren tussen de leestekens, zoals de \n",
    "voobeelden weergeven."
   ]
  },
  {
   "cell_type": "code",
   "execution_count": 1,
   "id": "grave-insider",
   "metadata": {},
   "outputs": [],
   "source": [
    "# Pas onderstaande regel aan\n",
    "project = \"Test Project\""
   ]
  },
  {
   "cell_type": "markdown",
   "id": "educated-renaissance",
   "metadata": {},
   "source": [
    "### Stap 2 - Start defnieren\n",
    "In deze stap wordt u gevraagd de maand en het jaartal te specifieceren van de start van het project.\n",
    "De voor uw rapport correcte gegevens moet u invullen zoals in het onderstaande voorbeeld wordt laten zien. Hier is het van belang dat de maand altijd in twee cijfers wordt uitgedrukt.\n",
    "\n",
    "```python\n",
    "maand, jaar = \"01\", \"2021\"\n",
    "```"
   ]
  },
  {
   "cell_type": "code",
   "execution_count": 2,
   "id": "wanted-questionnaire",
   "metadata": {},
   "outputs": [],
   "source": [
    "maand, jaar = \"01\", \"2021\""
   ]
  },
  {
   "cell_type": "markdown",
   "id": "weird-niagara",
   "metadata": {},
   "source": [
    "### Stap 3 - Tijdsregistratie specificeren\n",
    "Voor sommige projecten is vastgesteld dat zij binnen de storingsanalyse ook een analyse van de tijdsregistratie moeten uitvoeren. Als dit het geval is voor het project dat u wilt toevoegen dan neemt u het eerste voorbeeld over. In het geval dat dit niet van toepassing is, dan neemt u het tweede voorbeeld over.\n",
    "```python\n",
    "tijdsregistratie = True\n",
    "```\n",
    "```python\n",
    "tijdsregistratie = False\n",
    "```"
   ]
  },
  {
   "cell_type": "code",
   "execution_count": 4,
   "id": "controlled-devon",
   "metadata": {},
   "outputs": [],
   "source": [
    "# Pas onderstaande regel aan\n",
    "tijdsregistratie = False"
   ]
  },
  {
   "cell_type": "markdown",
   "id": "suited-senate",
   "metadata": {},
   "source": [
    "### Stap 4 - Starten van het script\n",
    "Wanneer u alle bovenstaande stappen heeft doorlopen, is het tijd om het script te starten. Dit doet u door te navigeren naar de optie ```Kernel``` in de balk boven aan uw scherm. Vervolgens selecteert u de optie ```Restart & Run All```."
   ]
  },
  {
   "cell_type": "markdown",
   "id": "strange-surge",
   "metadata": {},
   "source": [
    "# Importeren van de benodigdheden"
   ]
  },
  {
   "cell_type": "code",
   "execution_count": 5,
   "id": "occupational-defense",
   "metadata": {},
   "outputs": [],
   "source": [
    "import os\n",
    "\n",
    "keep_going = True\n",
    "while keep_going:\n",
    "    if os.getcwd().endswith(\"Automatisering Storingsanalyse\"):\n",
    "        keep_going = False\n",
    "    else:\n",
    "        os.chdir('..')  # changes the working dir to a level above the current working dir\n",
    "\n",
    "import json\n",
    "import pandas as pd\n",
    "import numpy as np\n",
    "from datetime import datetime\n",
    "from pandas import DataFrame\n",
    "from typing import Union\n",
    "\n",
    "path_to_source_folder = 'processes/1. building_metadata_file/source_document'\n",
    "path_to_resource_folder = 'resources/information_mapping'\n",
    "path_to_export_folder = \"data/metadata\""
   ]
  },
  {
   "cell_type": "markdown",
   "id": "turkish-rates",
   "metadata": {},
   "source": [
    "# Definieren van de functies"
   ]
  },
  {
   "cell_type": "code",
   "execution_count": 6,
   "id": "raised-patrol",
   "metadata": {},
   "outputs": [],
   "source": [
    "\"\"\"\n",
    "Functie voor inlezen van de POO_codes.json doc voor poo_code_overzicht\n",
    "\"\"\"\n",
    "def read_json(filepath) -> json:\n",
    "    with open(filepath, 'r') as json_file:\n",
    "        _data = json.load(json_file)\n",
    "    return _data\n",
    "\n",
    "def create_start_date_string(month: Union[str, int], year: Union[str, int]) -> str:\n",
    "    _month = month if isinstance(month, str) else str(month)\n",
    "    _year = year if isinstance(year, str) else str(year)\n",
    "    return month + '_' + year\n",
    "\n",
    "def check_for_file(path_to_folder: str, file: str) -> bool:\n",
    "    files_in_folder = os.listdir(path_to_folder)\n",
    "    if file in files_in_folder:\n",
    "        raise PermissionError(f\"A metadata file with the name '{file}' already exists in the specified folder. Executing this code cell would possibly mean that data is lost. Please create a backup of the file and remove it from the folder '{path_to_folder}' before running this process again.\")\n",
    "    else:\n",
    "        return True"
   ]
  },
  {
   "cell_type": "markdown",
   "id": "undefined-crime",
   "metadata": {},
   "source": [
    "# Gereed maken van het JSON object"
   ]
  },
  {
   "cell_type": "code",
   "execution_count": 7,
   "id": "coordinated-edinburgh",
   "metadata": {},
   "outputs": [],
   "source": [
    "poo_code_overzicht = read_json(filepath=os.path.join(path_to_resource_folder, 'POO_codes.json'))"
   ]
  },
  {
   "cell_type": "code",
   "execution_count": 8,
   "id": "potential-correlation",
   "metadata": {},
   "outputs": [],
   "source": [
    "contract_info = {\"tijdsregistratie\": str(tijdsregistratie),\n",
    "                 \"minimale_beschikbaarheid\": \"xx\",\n",
    "                 \"minimale_responsetijd\": \"04:00:00\",\n",
    "                 \"aanwezige_deelinstallaties\": list(),\n",
    "                 \"POO_codes\": poo_code_overzicht}"
   ]
  },
  {
   "cell_type": "code",
   "execution_count": 9,
   "id": "scientific-sacramento",
   "metadata": {},
   "outputs": [],
   "source": [
    "start_datum = create_start_date_string(month=maand, year=jaar)"
   ]
  },
  {
   "cell_type": "code",
   "execution_count": 10,
   "id": "destroyed-decrease",
   "metadata": {},
   "outputs": [],
   "source": [
    "json_dict = {\"project\": project,\n",
    "             \"start_datum\": start_datum,\n",
    "             \"contract_info\": contract_info}"
   ]
  },
  {
   "cell_type": "code",
   "execution_count": 11,
   "id": "velvet-incident",
   "metadata": {},
   "outputs": [
    {
     "name": "stdout",
     "output_type": "stream",
     "text": [
      "Succes!\n"
     ]
    }
   ],
   "source": [
    "export_file_name = \"metadata_file_{}.json\".format(project.lower().replace(' ', '_'))\n",
    "\n",
    "check_for_file(path_to_folder=path_to_export_folder, file=export_file_name)\n",
    "\n",
    "with open(os.path.join(path_to_export_folder, export_file_name), 'w') as output_file:\n",
    "    json.dump(json_dict, output_file)\n",
    "    \n",
    "print('Succes!')"
   ]
  },
  {
   "cell_type": "markdown",
   "id": "changed-night",
   "metadata": {},
   "source": [
    "# Afronding\n",
    "Nu het script is uitgevoerd zijn er twee uitkomsten;\n",
    "    \n",
    "    1. U ziet de terugkoppeling 'Succes!'.\n",
    "    2. U ziet een PermissionError met daarbij een terugkoppeling.\n",
    "    \n",
    "## Afronding na optie 1\n",
    "Indien u de terugkoppeling ```Succes!``` ziet, is het script succesvol doorlopen en staat er een niet bestand in de map ```Automatisering Storingsanalyse/data/metadata```.\n",
    "\n",
    "## Afronding na optie 2\n",
    "Indien u de PermissionError als terugkoppeling ziet, is het van belang dat u dit bericht volgt en vervolgens het script nogmaals probeert uit te voeren."
   ]
  }
 ],
 "metadata": {
  "kernelspec": {
   "display_name": "Python 3",
   "language": "python",
   "name": "python3"
  },
  "language_info": {
   "codemirror_mode": {
    "name": "ipython",
    "version": 3
   },
   "file_extension": ".py",
   "mimetype": "text/x-python",
   "name": "python",
   "nbconvert_exporter": "python",
   "pygments_lexer": "ipython3",
   "version": "3.6.3"
  }
 },
 "nbformat": 4,
 "nbformat_minor": 5
}
